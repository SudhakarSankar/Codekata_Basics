{
 "cells": [
  {
   "cell_type": "markdown",
   "metadata": {},
   "source": [
    "# Basics - Codekata"
   ]
  },
  {
   "cell_type": "code",
   "execution_count": 3,
   "metadata": {},
   "outputs": [
    {
     "name": "stdout",
     "output_type": "stream",
     "text": [
      "1\n",
      "2\n",
      "3\n",
      "4\n",
      "5\n"
     ]
    }
   ],
   "source": [
    "# 1\n",
    "# Write a code to get an integer N and print values from 1 till N in a separate line.\n",
    "\n",
    "# Input Description:\n",
    "# A single line contains an integer N.\n",
    "\n",
    "# Output Description:\n",
    "# Print the values from 1 to N in a separate line.\n",
    "\n",
    "# Sample Input :\n",
    "# 5\n",
    "# Sample Output :\n",
    "# 1\n",
    "# 2\n",
    "# 3\n",
    "# 4\n",
    "# 5\n",
    "\n",
    "N = int(input())\n",
    "for i in range(1, N + 1):\n",
    "    print(i)"
   ]
  },
  {
   "cell_type": "code",
   "execution_count": 5,
   "metadata": {},
   "outputs": [
    {
     "name": "stdout",
     "output_type": "stream",
     "text": [
      "2\n",
      "2\n",
      "2\n"
     ]
    }
   ],
   "source": [
    "# 2\n",
    "# Write a code to get 2 integers A and N. Print the integer A, N times in separate line.\n",
    "\n",
    "# Input Description:\n",
    "# First line contains an integer A. Second line contains an Integer N.\n",
    "\n",
    "# Output Description:\n",
    "# Print the integer A, N times in a separate line.\n",
    "\n",
    "# Sample Input :\n",
    "# 2 3\n",
    "# Sample Output :\n",
    "# 2\n",
    "# 2\n",
    "# 2\n",
    "\n",
    "A, N = map(int, input().split())\n",
    "for i in range(N):\n",
    "    print(A)"
   ]
  },
  {
   "cell_type": "code",
   "execution_count": null,
   "metadata": {},
   "outputs": [
    {
     "name": "stdout",
     "output_type": "stream",
     "text": [
      "yes\n"
     ]
    }
   ],
   "source": [
    "# 3\n",
    "# Given 2 numbers N and K followed by elements of N .Print 'yes' if K exists else print 'no'.\n",
    "# Sample Testcase :\n",
    "# INPUT\n",
    "# 4 2\n",
    "# 1 2 3 3\n",
    "# OUTPUT\n",
    "# yes\n",
    "\n",
    "N, K = map(int, input().split())\n",
    "Elements = map(int, input().split())\n",
    "if K in Elements:\n",
    "    print(\"yes\")\n",
    "else:\n",
    "    print(\"no\")"
   ]
  },
  {
   "cell_type": "code",
   "execution_count": 7,
   "metadata": {},
   "outputs": [
    {
     "name": "stdout",
     "output_type": "stream",
     "text": [
      "no\n"
     ]
    }
   ],
   "source": [
    "# 4 \n",
    "# Given 2 numbers N,M. Print 'yes' if their product is a perfect square else print 'no'.\n",
    "# Sample Testcase :\n",
    "# INPUT\n",
    "# 5 5\n",
    "# OUTPUT\n",
    "# yes\n",
    "\n",
    "N, M = map(int, input().split())\n",
    "if N==M:\n",
    "    print(\"yes\")\n",
    "else:\n",
    "    print(\"no\")"
   ]
  },
  {
   "cell_type": "code",
   "execution_count": 8,
   "metadata": {},
   "outputs": [
    {
     "name": "stdout",
     "output_type": "stream",
     "text": [
      "odd\n"
     ]
    }
   ],
   "source": [
    "# 5\n",
    "# Given 2 numbers N and M add both the numbers and check whether the sum is odd or even.\n",
    "# Sample Testcase :\n",
    "# INPUT\n",
    "# 9 2\n",
    "# OUTPUT\n",
    "# odd\n",
    "\n",
    "N, M = map(int, input().split())\n",
    "sum = N + M\n",
    "if sum % 2 == 0:\n",
    "    print('even')\n",
    "else:\n",
    "    print('odd')"
   ]
  },
  {
   "cell_type": "code",
   "execution_count": 11,
   "metadata": {},
   "outputs": [
    {
     "name": "stdout",
     "output_type": "stream",
     "text": [
      "4.5\n"
     ]
    }
   ],
   "source": [
    "# 6\n",
    "# Given base(B) and height(H) of a triangle find its area.\n",
    "# Input Size : N <= 1000000\n",
    "# Sample Testcase :\n",
    "# INPUT\n",
    "# 2 4\n",
    "# OUTPUT\n",
    "# 4\n",
    "\n",
    "B, H = map(int, input().split())\n",
    "Area = 1/2 * (B * H)\n",
    "print(Area)"
   ]
  },
  {
   "cell_type": "code",
   "execution_count": 13,
   "metadata": {},
   "outputs": [
    {
     "name": "stdout",
     "output_type": "stream",
     "text": [
      "no\n"
     ]
    }
   ],
   "source": [
    "# 7\n",
    "# Given 3 numbers N , L and R. Print 'yes' if N is between L and R else print 'no'.\n",
    "# Sample Testcase :\n",
    "# INPUT\n",
    "# 3\n",
    "# 2 6\n",
    "# OUTPUT\n",
    "# yes\n",
    "\n",
    "N  = int(input())\n",
    "L, R = map(int, input().split())\n",
    "if L <= N <= R:\n",
    "    print('yes')\n",
    "else:\n",
    "    print('no')"
   ]
  },
  {
   "cell_type": "code",
   "execution_count": null,
   "metadata": {},
   "outputs": [
    {
     "name": "stdout",
     "output_type": "stream",
     "text": [
      "2\n",
      "4\n",
      "6\n"
     ]
    }
   ],
   "source": [
    "# 8\n",
    "# Write a code to get an integer N and print the even values from 1 till N in a separate line.\n",
    "\n",
    "# Input Description:\n",
    "# A single line contains an integer N.\n",
    "\n",
    "# Output Description:\n",
    "# Print the even values from 1 to N in a separate line.\n",
    "\n",
    "# Sample Input :\n",
    "# 6\n",
    "# Sample Output :\n",
    "# 2\n",
    "# 4\n",
    "# 6\n",
    "\n",
    "N = int(input())\n",
    "for i in range (1, N+1):\n",
    "    if i % 2 ==0:\n",
    "        print(i)\n",
    "        \n",
    "# for i in range(2, N+1, 2):\n",
    "#     print(i)\n",
    "    \n"
   ]
  },
  {
   "cell_type": "code",
   "execution_count": 16,
   "metadata": {},
   "outputs": [
    {
     "name": "stdout",
     "output_type": "stream",
     "text": [
      "100\n"
     ]
    }
   ],
   "source": [
    "# 9\n",
    "'''Kabali is a brave warrior who with his group of young ninjas moves from one place to another to fight against his opponents. \n",
    "Before Fighting he just calculates one thing, the difference between his ninja number and the opponent's ninja number. \n",
    "From this difference he decides whether to fight or not. Kabali's ninja number is never greater than his opponent.'''\n",
    "# Input\n",
    "'''The input contains two numbers in every line. These two numbers in each line denotes the number ninjas in Kabali's clan and \n",
    "his opponent's clan . print the absolute difference of number of ninjas between Kabali's clan and his opponent's clan. \n",
    "Each output should be in seperate line.'''\n",
    "# Sample Testcase :\n",
    "# INPUT\n",
    "# 100 200\n",
    "# OUTPUT\n",
    "# 100\n",
    "\n",
    "A, B = map(int, input().split())\n",
    "Diff = abs(B - A)\n",
    "print(Diff)\n"
   ]
  },
  {
   "cell_type": "code",
   "execution_count": null,
   "metadata": {},
   "outputs": [
    {
     "name": "stdout",
     "output_type": "stream",
     "text": [
      "1\n"
     ]
    }
   ],
   "source": [
    "# 10\n",
    "# Given numbers A,B find A^B.\n",
    "# Input Size : 1 <= A <= 5 <= B <= 50\n",
    "# Sample Testcase :\n",
    "# INPUT\n",
    "# 3 4\n",
    "# OUTPUT\n",
    "# 81\n",
    "\n",
    "# Input\n",
    "A, B = map(int, input().split())\n",
    "if 1 <= A <= 5 and 5 <= B <= 50:\n",
    "    result = A ** B\n",
    "    print(result)\n",
    "else:\n",
    "    print(\"Input values are out of range.\")"
   ]
  },
  {
   "cell_type": "code",
   "execution_count": 23,
   "metadata": {},
   "outputs": [
    {
     "name": "stdout",
     "output_type": "stream",
     "text": [
      "6\n"
     ]
    }
   ],
   "source": [
    "# 11\n",
    "# Write a program to print the sum of the first K natural numbers.\n",
    "# Input Size : n <= 100000\n",
    "# Sample Testcase :\n",
    "# INPUT\n",
    "# 3\n",
    "# OUTPUT\n",
    "# 6\n",
    "\n",
    "N = int(input())\n",
    "sum = 0\n",
    "for i in range(1, N +1):\n",
    "    sum += i\n",
    "print(sum)"
   ]
  },
  {
   "cell_type": "code",
   "execution_count": 2,
   "metadata": {},
   "outputs": [
    {
     "name": "stdout",
     "output_type": "stream",
     "text": [
      "3\n"
     ]
    }
   ],
   "source": [
    "# 12\n",
    "# Given a range of 2 numbers (i.e) L and R count the number of prime numbers in the range (inclusive of L and R ).\n",
    "# Input Size : L <= R <= 100000(complexity O(n) read about Sieve of Eratosthenes)\n",
    "# Sample Testcase :\n",
    "# INPUT\n",
    "# 2 5\n",
    "# OUTPUT\n",
    "# 3\n",
    "\n",
    "def sieve_of_eratosthenes(n):\n",
    "    is_prime = [True] * (n + 1)\n",
    "    p = 2\n",
    "    while p * p <= n:\n",
    "        if is_prime[p]:\n",
    "            for i in range(p * p, n + 1, p):\n",
    "                is_prime[i] = False\n",
    "        p += 1\n",
    "    return [p for p in range(2, n + 1) if is_prime[p]]\n",
    "\n",
    "def count_primes_in_range(L, R):\n",
    "    # Generate all primes up to R\n",
    "    primes = sieve_of_eratosthenes(R)\n",
    "    # Count primes within the range [L, R]\n",
    "    count = sum(1 for p in primes if L <= p <= R)\n",
    "    return count\n",
    "\n",
    "# Input\n",
    "L, R = map(int, input().split())\n",
    "\n",
    "# Output the count of prime numbers in the range\n",
    "print(count_primes_in_range(L, R))\n"
   ]
  },
  {
   "cell_type": "code",
   "execution_count": 4,
   "metadata": {},
   "outputs": [
    {
     "name": "stdout",
     "output_type": "stream",
     "text": [
      "4\n",
      "4\n",
      "4\n",
      "4\n",
      "4\n"
     ]
    }
   ],
   "source": [
    "# 13\n",
    "# Write a code to get the input and print it 5 times.\n",
    "\n",
    "# Input Description:\n",
    "# A single line contains an integer N.\n",
    "\n",
    "# Output Description:\n",
    "# Output contains 5 lines with each line having the value N.\n",
    "\n",
    "# Sample Input :\n",
    "# 4\n",
    "# Sample Output :\n",
    "# 4\n",
    "# 4\n",
    "# 4\n",
    "# 4\n",
    "# 4\n",
    "\n",
    "N = int(input())\n",
    "for i in range(5):\n",
    "    print(N)"
   ]
  },
  {
   "cell_type": "code",
   "execution_count": 6,
   "metadata": {},
   "outputs": [
    {
     "name": "stdout",
     "output_type": "stream",
     "text": [
      "0\n"
     ]
    }
   ],
   "source": [
    "# 14\n",
    "# Given 2 numbers N and K followed by N elements,print the number of repetition of K otherwise print '-1' if the element not found.\n",
    "# Sample Testcase :\n",
    "# INPUT\n",
    "# 6 2\n",
    "# 1 2 3 5 7 8\n",
    "# OUTPUT\n",
    "# 0\n",
    "\n",
    "N, K = map(int, input().split())\n",
    "Elements = list(map(int, input().split()))\n",
    "no_of_K_in_elements = Elements.count(K)\n",
    "if no_of_K_in_elements > 0:\n",
    "    print(no_of_K_in_elements - 1)\n",
    "else:\n",
    "    print('-1')"
   ]
  },
  {
   "cell_type": "code",
   "execution_count": 1,
   "metadata": {},
   "outputs": [
    {
     "name": "stdout",
     "output_type": "stream",
     "text": [
      "3\n"
     ]
    }
   ],
   "source": [
    "# 15\n",
    "# Find the minimum among 10 numbers.\n",
    "# Sample Testcase :\n",
    "# INPUT\n",
    "# 5 4 3 2 1 7 6 10 8 9\n",
    "# OUTPUT\n",
    "# 1\n",
    "\n",
    "Elements = list(map(int, input().split()))\n",
    "min_num = min(Elements)\n",
    "print(min_num)"
   ]
  },
  {
   "cell_type": "code",
   "execution_count": null,
   "metadata": {},
   "outputs": [
    {
     "name": "stdout",
     "output_type": "stream",
     "text": [
      "0\n"
     ]
    }
   ],
   "source": [
    "# 16\n",
    "# Given a number N and an array of N elements ,find the Bitwise AND of the array elements.\n",
    "# Input Size N <= 100000\n",
    "# Sample Testcase :\n",
    "# INPUT\n",
    "# 4\n",
    "# 4 3 2 1\n",
    "# OUTPUT\n",
    "# 0\n",
    "\n",
    "N = int(input())\n",
    "Elements = list(map(int, input().split()))\n",
    "Results = Elements[0]\n",
    "\n",
    "for i in range (1, N):\n",
    "    Results = Results & Elements[i]\n",
    "    \n",
    "print(Results)"
   ]
  },
  {
   "cell_type": "code",
   "execution_count": 4,
   "metadata": {},
   "outputs": [
    {
     "name": "stdout",
     "output_type": "stream",
     "text": [
      "5\n"
     ]
    }
   ],
   "source": [
    "# 17\n",
    "# Given 2 numbers N,M find the GCD of N and M.If it cannot be found for given number(s) then print -1\n",
    "# Sample Testcase :\n",
    "# INPUT\n",
    "# 10 5\n",
    "# OUTPUT\n",
    "# 5\n",
    "\n",
    "import math\n",
    "N, M = map(int, input().split())\n",
    "if N ==0 and M == 0:\n",
    "    print('-1')\n",
    "else:\n",
    "    print(math.gcd(N, M))"
   ]
  },
  {
   "cell_type": "code",
   "execution_count": 5,
   "metadata": {},
   "outputs": [
    {
     "name": "stdout",
     "output_type": "stream",
     "text": [
      "2 1 4 3 6 5\n"
     ]
    }
   ],
   "source": [
    "# 18 \n",
    "# Given an array of N elements switch(swap) the element with the adjacent element and print the output.\n",
    "# Sample Testcase :\n",
    "# INPUT\n",
    "# 5\n",
    "# 3 2 1 2 3\n",
    "# OUTPUT\n",
    "# 2 3 2 1 3\n",
    "\n",
    "N = int(input())\n",
    "Array_N = list(map(int, input().split()))\n",
    "for i in range (0, N -1, 2):\n",
    "    Array_N[i], Array_N[i+1] = Array_N[i+1], Array_N[i]\n",
    "print(*Array_N)"
   ]
  },
  {
   "cell_type": "code",
   "execution_count": 6,
   "metadata": {},
   "outputs": [
    {
     "name": "stdout",
     "output_type": "stream",
     "text": [
      "10\n",
      "9\n",
      "8\n",
      "7\n",
      "6\n",
      "5\n",
      "4\n",
      "3\n",
      "2\n",
      "1\n"
     ]
    }
   ],
   "source": [
    "# 19\n",
    "# Input Description:\n",
    "# A single line contains an integer N.\n",
    "\n",
    "# Output Description:\n",
    "# Print the values from N to 1 in a separate line.\n",
    "\n",
    "# Sample Input :\n",
    "# 10\n",
    "# Sample Output :\n",
    "# 10\n",
    "# 9\n",
    "# 8\n",
    "# 7\n",
    "# 6\n",
    "# 5\n",
    "# 4\n",
    "# 3\n",
    "# 2\n",
    "# 1\n",
    "\n",
    "N = int(input())\n",
    "for i in range(N, 0, -1):\n",
    "    print(i)"
   ]
  },
  {
   "cell_type": "code",
   "execution_count": 8,
   "metadata": {},
   "outputs": [
    {
     "name": "stdout",
     "output_type": "stream",
     "text": [
      "7\n"
     ]
    }
   ],
   "source": [
    "# 20\n",
    "# Write a code get an integer number as input and print the sum of the digits.\n",
    "\n",
    "# Input Description:\n",
    "# A single line containing an integer.\n",
    "\n",
    "# Output Description:\n",
    "# Print the sum of the digits of the integer.\n",
    "\n",
    "# Sample Input :\n",
    "# 124\n",
    "# Sample Output :\n",
    "# 7\n",
    "\n",
    "N = int(input())\n",
    "sum = 0\n",
    "for i in str(N):\n",
    "    sum += int(i)\n",
    "print(sum)\n",
    "    \n"
   ]
  },
  {
   "cell_type": "code",
   "execution_count": 11,
   "metadata": {},
   "outputs": [
    {
     "name": "stdout",
     "output_type": "stream",
     "text": [
      "yes\n"
     ]
    }
   ],
   "source": [
    "# 21\n",
    "# Given 3 numbers A,B,C process and print 'yes' if they can form the sides of a triangle otherwise print 'no'.\n",
    "# Input Size : A,B,C <= 100000\n",
    "# Sample Testcase :\n",
    "# INPUT\n",
    "# 3 4 5\n",
    "# OUTPUT\n",
    "# yes\n",
    "\n",
    "A, B, C = map(int, input().split())\n",
    "if A + B > C and A + C > B and B + C > A:\n",
    "    print('yes')\n",
    "else:\n",
    "    print('no')"
   ]
  },
  {
   "cell_type": "code",
   "execution_count": 2,
   "metadata": {},
   "outputs": [
    {
     "name": "stdout",
     "output_type": "stream",
     "text": [
      "128\n"
     ]
    }
   ],
   "source": [
    "# 22\n",
    "# Write a code to get a integer n as input and calculate the smallest perfect power of 2 greater than n.\n",
    "\n",
    "# Input Description:\n",
    "# A single line containing an integer,n.\n",
    "\n",
    "# Output Description:\n",
    "# Print the smallest perfect power of 2 greater than n.\n",
    "\n",
    "# Sample Input :\n",
    "# 48\n",
    "# Sample Output :\n",
    "# 64\n",
    "\n",
    "n = int(input())\n",
    "power_of_2 = 1\n",
    "while power_of_2 <= n:\n",
    "    power_of_2 = power_of_2 * 2\n",
    "    \n",
    "print(power_of_2)"
   ]
  },
  {
   "cell_type": "code",
   "execution_count": null,
   "metadata": {},
   "outputs": [
    {
     "name": "stdout",
     "output_type": "stream",
     "text": [
      "yes\n"
     ]
    }
   ],
   "source": [
    "# 23\n",
    "# Given a number N, print 'yes' if it is composite else print 'no'.\n",
    "# Sample Testcase :\n",
    "# INPUT\n",
    "# 123\n",
    "# OUTPUT\n",
    "# yes\n",
    "\n",
    "## composite number is a positive integer that has at least one positive divisor other than one or itself\n",
    "def is_composite(n):\n",
    "    if n <= 1:\n",
    "        return False\n",
    "    for i in range (2, int((n/2)+1)):\n",
    "        if n % i == 0:\n",
    "            return True\n",
    "    return False\n",
    "    \n",
    "N = int(input())\n",
    "if is_composite(N):\n",
    "    print(\"yes\")\n",
    "else:\n",
    "    print(\"no\")\n",
    "    \n",
    "    \n"
   ]
  },
  {
   "cell_type": "code",
   "execution_count": null,
   "metadata": {},
   "outputs": [
    {
     "name": "stdout",
     "output_type": "stream",
     "text": [
      "55\n"
     ]
    }
   ],
   "source": [
    "# 24\n",
    "# Write a code to get an integer N and print the sum of  values from 1 to N.\n",
    "\n",
    "# Input Description:\n",
    "# A single line contains an integer N.\n",
    "\n",
    "# Output Description:\n",
    "# Print the sum of values from 1 to N.\n",
    "\n",
    "# Sample Input :\n",
    "# 10\n",
    "# Sample Output :\n",
    "# 55\n",
    "\n",
    "N = int(input())\n",
    "sum = 0\n",
    "for i in range(1, N + 1):\n",
    "    sum = sum + i\n",
    "print(sum)"
   ]
  },
  {
   "cell_type": "code",
   "execution_count": 7,
   "metadata": {},
   "outputs": [
    {
     "name": "stdout",
     "output_type": "stream",
     "text": [
      "P\n"
     ]
    }
   ],
   "source": [
    "# 25\n",
    "# Let P represent Paper, R represent Rock and S represent Scissors. Given 2 out of the 3 determine which one wins. If its a draw print 'D'.\n",
    "# Sample Testcase :\n",
    "# INPUT\n",
    "# R P\n",
    "# OUTPUT\n",
    "# P\n",
    "\n",
    "Player1, Player2 = input().split()  \n",
    "if Player1 == Player2:\n",
    "    print(\"D\")\n",
    "elif ((Player1 == 'R' and Player2 == 'S') or (Player1 == 'S' and Player2 == 'R')):\n",
    "    print(\"R\")\n",
    "elif ((Player1 == 'S' and Player2 == 'P') or (Player1 == 'P' and Player2 == 'S')):\n",
    "    print(\"S\")\n",
    "elif ((Player1 == 'P' and Player2 == 'R') or (Player1 == 'R' and Player2 == 'P')):\n",
    "    print(\"P\")"
   ]
  },
  {
   "cell_type": "code",
   "execution_count": 8,
   "metadata": {},
   "outputs": [
    {
     "name": "stdout",
     "output_type": "stream",
     "text": [
      "yes\n"
     ]
    }
   ],
   "source": [
    "# 26\n",
    "# Given 3 numbers A,B,C print 'yes' if they can form the sides of a scalene triangle else print 'no'.\n",
    "# Input Size : A,B,C <= 100000\n",
    "# Sample Testcase :\n",
    "# INPUT\n",
    "# 3 4 5\n",
    "# OUTPUT\n",
    "# yes\n",
    "\n",
    "A, B, C = map(int, input().split())\n",
    "\n",
    "if A+B > C and B+C > A and A+C > B and A!=B and A!=C and B!=C:\n",
    "    print(\"yes\")\n",
    "else:\n",
    "    print(\"no\")"
   ]
  },
  {
   "cell_type": "code",
   "execution_count": 13,
   "metadata": {},
   "outputs": [
    {
     "name": "stdout",
     "output_type": "stream",
     "text": [
      "ushdkara\n"
     ]
    }
   ],
   "source": [
    "# 27\n",
    "# Given a string 'S' swap the even and odd characters starting from index 1(Assume the index starts from 0).\n",
    "# Input Size : |s| <= 10000000(complexity O(n))\n",
    "# Sample Testcase :\n",
    "# INPUT\n",
    "# codekata\n",
    "# OUTPUT\n",
    "# ocedakat\n",
    "\n",
    "A = input()\n",
    "A = list(A)\n",
    "for i in range (0, len(A) - 1, 2):\n",
    "    A[i], A[i+1] = A[i+1], A[i] \n",
    "print(\"\".join(A))"
   ]
  },
  {
   "cell_type": "code",
   "execution_count": null,
   "metadata": {},
   "outputs": [
    {
     "name": "stdout",
     "output_type": "stream",
     "text": [
      "-6\n"
     ]
    }
   ],
   "source": [
    "# 28\n",
    "# Given a number N, print the Bitwise NOT of that number.\n",
    "# Input Size : 1 <= N <= 10000\n",
    "# Sample Testcase :\n",
    "# INPUT\n",
    "# 5\n",
    "# OUTPUT\n",
    "# -6\n",
    "\n",
    "A = int(input())\n",
    "Output = ~A\n",
    "print(Output)"
   ]
  },
  {
   "cell_type": "code",
   "execution_count": 15,
   "metadata": {},
   "outputs": [
    {
     "name": "stdout",
     "output_type": "stream",
     "text": [
      "kar sudha\n"
     ]
    }
   ],
   "source": [
    "# 29\n",
    "# Given a string S consisting of 2 words reverse the order of two words .\n",
    "# Input Size : |S| <= 10000000\n",
    "# Sample Testcase :\n",
    "# INPUT\n",
    "# hello world\n",
    "# OUTPUT\n",
    "# world hello\n",
    "\n",
    "S = input()\n",
    "Result = S.split()\n",
    "Reverse = \" \".join(Result[::-1])\n",
    "print(Reverse)"
   ]
  },
  {
   "cell_type": "code",
   "execution_count": null,
   "metadata": {},
   "outputs": [],
   "source": [
    "# 30\n",
    "# Write a code get an integer number as input and print the odd and even digits of the number separately.\n",
    "\n",
    "# Input Description:\n",
    "# A single line containing an integer.\n",
    "\n",
    "# Output Description:\n",
    "# Print the even and odd integers of the integer in a separate line.\n",
    "\n",
    "# Sample Input :\n",
    "# 1234\n",
    "# Sample Output :\n",
    "# 2 4\n",
    "# 1 3\n",
    "\n",
    "N = input()\n",
    "str_n = str(N)\n",
    "Even = []\n",
    "Odd = []\n",
    "for i in str_n:\n",
    "    if int(i) % 2 == 0:\n",
    "        Even.append(i)  \n",
    "    else:\n",
    "        Odd.append(i)   \n",
    "Even.sort()\n",
    "Odd.sort()\n",
    "print(\" \".join(Even))\n",
    "print(\" \".join(Odd))    "
   ]
  },
  {
   "cell_type": "code",
   "execution_count": 18,
   "metadata": {},
   "outputs": [
    {
     "name": "stdout",
     "output_type": "stream",
     "text": [
      "00\n"
     ]
    }
   ],
   "source": [
    "# 31\n",
    "# Write a code to get 2 integers as input and add the integers without any carry.\n",
    "\n",
    "# Input Description:\n",
    "# A single line containing 2 integers.\n",
    "\n",
    "# Output Description:\n",
    "# Print sum of the 2 integers without carry\n",
    "\n",
    "# Sample Input :\n",
    "# 44 66\n",
    "# Sample Output :\n",
    "# 0\n",
    "\n",
    "A, B = map(int, input().split())\n",
    "max_len = max(len(str(A)), len(str(B)))\n",
    "A = str(A).zfill(max_len)\n",
    "B = str(B).zfill(max_len)\n",
    "\n",
    "Results = []\n",
    "for i in range(max_len):\n",
    "    Sum = int(A[i]) + int(B[i])\n",
    "    Results.append(str(Sum % 10))\n",
    "    \n",
    "print(\"\".join(Results))"
   ]
  },
  {
   "cell_type": "code",
   "execution_count": 19,
   "metadata": {},
   "outputs": [
    {
     "name": "stdout",
     "output_type": "stream",
     "text": [
      "ivug\n"
     ]
    }
   ],
   "source": [
    "# 32\n",
    "# Write a program to get a string as input and reverse the string without using temporary variable.\n",
    "\n",
    "# Input Description:\n",
    "# A single line containing a string.\n",
    "\n",
    "# Output Description:\n",
    "# Print the reversed string.\n",
    "\n",
    "# Sample Input :\n",
    "# GUVI\n",
    "# Sample Output :\n",
    "# IVUG\n",
    "\n",
    "S = input()\n",
    "O = S[:: -1]\n",
    "print(O)"
   ]
  },
  {
   "cell_type": "code",
   "execution_count": 20,
   "metadata": {},
   "outputs": [
    {
     "name": "stdout",
     "output_type": "stream",
     "text": [
      "vbjwy\n"
     ]
    }
   ],
   "source": [
    "# 33\n",
    "'''The Caesar Cipher technique is one of the earliest and simplest method of encryption technique. It’s simply a type of substitution cipher, \n",
    "i.e., each letter of a given text is replaced by a letter some fixed number of positions down the alphabet. \n",
    "For example with a shift of 1, A would be replaced by B, B would become C, and so on. The method is apparently named after Julius Caesar,\n",
    "who apparently used it to communicate with his officials.For the given input string(S) and shift print the encrypted string.'''\n",
    "# Sample Testcase :\n",
    "# INPUT\n",
    "# ABCdEFGHIJKLMNOPQRSTUVWXYz 23\n",
    "# OUTPUT\n",
    "# XYZaBCDEFGHIJKLMNOPQRSTUVw\n",
    "\n",
    "\n",
    "# Input the string and shift value\n",
    "S, shift = input().split()\n",
    "shift = int(shift)\n",
    "\n",
    "# Initialize the result string\n",
    "encrypted_string = []\n",
    "\n",
    "# Iterate through each character in the input string\n",
    "for char in S:\n",
    "    # Check if the character is uppercase\n",
    "    if 'A' <= char <= 'Z':\n",
    "        # Shift within the range of uppercase letters\n",
    "        new_char = chr(((ord(char) - ord('A') + shift) % 26) + ord('A'))\n",
    "        encrypted_string.append(new_char)\n",
    "    # Check if the character is lowercase\n",
    "    elif 'a' <= char <= 'z':\n",
    "        # Shift within the range of lowercase letters\n",
    "        new_char = chr(((ord(char) - ord('a') + shift) % 26) + ord('a'))\n",
    "        encrypted_string.append(new_char)\n",
    "    else:\n",
    "        # Non-alphabetic characters remain unchanged\n",
    "        encrypted_string.append(char)\n",
    "\n",
    "# Join the encrypted characters into the final result\n",
    "print(\"\".join(encrypted_string))\n"
   ]
  },
  {
   "cell_type": "code",
   "execution_count": null,
   "metadata": {},
   "outputs": [],
   "source": [
    "# 34\n",
    "# Write a code to get 2 integers as input and find the HCF of the 2 integer without using recursion or Euclidean algorithm.\n",
    "\n",
    "# Input Description:\n",
    "# A single line containing 2 integers separated by space.\n",
    "\n",
    "# Output Description:\n",
    "# Print the HCF of the integers.\n",
    "\n",
    "# Sample Input :\n",
    "# 2 3\n",
    "# Sample Output :\n",
    "# 1\n",
    "\n",
    "a, b = map(int, input().split())\n",
    "small_Value = min(a, b)\n",
    "hcf = 1\n",
    "for i in range (2, small_Value + 1):\n",
    "    if a % i == 0 and b % i == 0:\n",
    "        hcf = i \n",
    "print(hcf)"
   ]
  },
  {
   "cell_type": "code",
   "execution_count": null,
   "metadata": {},
   "outputs": [],
   "source": [
    "# 35\n",
    "'''Given a list of N coins, their values (V1, V2, … , VN), and the total sum S. Find the minimum number of coins the sum of which is S \n",
    "(we can use as many coins of one type as we want), \n",
    "if it is not possible to select coins in such a way that they sum up to S then print '-1'.'''\n",
    "# Example: Given coins with values 1, 3, and 5. And the sum S is 11.\n",
    "# Output: 3, 2 coins of 3 and 1 coin of 5\n",
    "# Input Size : N<=10000\n",
    "# Example:\n",
    "# INPUT\n",
    "# 3 11\n",
    "# 1 3 5\n",
    "# OUTPUT\n",
    "# 3\n",
    "\n",
    "def min_coins(coins, N, S):\n",
    "    # Initialize dp array with a large value (infinity)\n",
    "    dp = [float('inf')] * (S + 1)\n",
    "    \n",
    "    # Base case: To get a sum of 0, we need 0 coins\n",
    "    dp[0] = 0\n",
    "    \n",
    "    # Iterate over all coins\n",
    "    for coin in coins:\n",
    "        # Update the dp array for all sums from coin to S\n",
    "        for x in range(coin, S + 1):\n",
    "            dp[x] = min(dp[x], dp[x - coin] + 1)\n",
    "    \n",
    "    # If dp[S] is still infinity, return -1, else return dp[S]\n",
    "    return dp[S] if dp[S] != float('inf') else -1\n",
    "\n",
    "# Input handling\n",
    "N, S = map(int, input().split())\n",
    "coins = list(map(int, input().split()))\n",
    "\n",
    "# Find the minimum number of coins\n",
    "result = min_coins(coins, N, S)\n",
    "\n",
    "# Output the result\n",
    "print(result)\n"
   ]
  },
  {
   "cell_type": "code",
   "execution_count": null,
   "metadata": {},
   "outputs": [],
   "source": [
    "# 36\n",
    "# Check whether the given 4 points form a square or not.\n",
    "# Example:\n",
    "# INPUT\n",
    "# 10 10\n",
    "# 10 20\n",
    "# 20 20\n",
    "# 20 10\n",
    "# OUTPUT\n",
    "# yes\n",
    "\n",
    "# Function to calculate the squared distance between two points\n",
    "def squared_distance(x1, y1, x2, y2):\n",
    "    return (x2 - x1)**2 + (y2 - y1)**2\n",
    "\n",
    "# Input the four points\n",
    "x1, y1 = map(int, input().split())\n",
    "x2, y2 = map(int, input().split())\n",
    "x3, y3 = map(int, input().split())\n",
    "x4, y4 = map(int, input().split())\n",
    "\n",
    "# List to store all 6 squared distances\n",
    "distances = []\n",
    "\n",
    "# Calculate squared distances between all pairs of points\n",
    "distances.append(squared_distance(x1, y1, x2, y2))\n",
    "distances.append(squared_distance(x1, y1, x3, y3))\n",
    "distances.append(squared_distance(x1, y1, x4, y4))\n",
    "distances.append(squared_distance(x2, y2, x3, y3))\n",
    "distances.append(squared_distance(x2, y2, x4, y4))\n",
    "distances.append(squared_distance(x3, y3, x4, y4))\n",
    "\n",
    "# Sort the squared distances\n",
    "distances.sort()\n",
    "\n",
    "# Check if the first 4 are equal (sides of the square) and the last 2 are equal (diagonals)\n",
    "if distances[0] == distances[1] == distances[2] == distances[3] and distances[4] == distances[5] and distances[4] > distances[0]:\n",
    "    print(\"yes\")\n",
    "else:\n",
    "    print(\"no\")\n"
   ]
  },
  {
   "cell_type": "code",
   "execution_count": null,
   "metadata": {},
   "outputs": [],
   "source": [
    "# 37\n",
    "# Given a number N and an array of N elements, find the Bitwise OR of the array elements.\n",
    "# Input Size : N <= 100000\n",
    "# Sample Testcase :\n",
    "# INPUT\n",
    "# 2\n",
    "# 2 4\n",
    "# OUTPUT\n",
    "# 6\n",
    "\n",
    "N = int(input())\n",
    "arr = list(map(int, input().split()))\n",
    "result = 0\n",
    "# Iterate over the array and apply bitwise OR\n",
    "for num in arr:\n",
    "    result |= num\n",
    "# Output the result\n",
    "print(result)"
   ]
  },
  {
   "cell_type": "code",
   "execution_count": null,
   "metadata": {},
   "outputs": [],
   "source": [
    "# 38\n",
    "# Write a code to get an integer N and print the digits of the integer.\n",
    "\n",
    "# Input Description:\n",
    "# A single line contains an integer N.\n",
    "\n",
    "# Output Description:\n",
    "# Print the digits of the integer in a single line separated by space,\n",
    "\n",
    "# Sample Input :\n",
    "# 348\n",
    "# Sample Output :\n",
    "# 3 4 8\n",
    "\n",
    "N = int(input())\n",
    "str_n = str(N)\n",
    "print(' '.join(str_n))"
   ]
  },
  {
   "cell_type": "code",
   "execution_count": null,
   "metadata": {},
   "outputs": [],
   "source": [
    "# 39\n",
    "# Given a number N followed by N numbers.Find the smallest number and largest number and print both the indices(1 based indexing).\n",
    "# Input Size : N <= 100000\n",
    "# Sample Testcase :\n",
    "# INPUT\n",
    "# 5\n",
    "# 1 2 3 4 5\n",
    "# OUTPUT\n",
    "# 1 5\n",
    "\n",
    "# Input the number of elements\n",
    "N = int(input())\n",
    "\n",
    "# Input the array elements\n",
    "arr = list(map(int, input().split()))\n",
    "\n",
    "# Initialize the smallest and largest values and their respective indices\n",
    "min_value = arr[0]\n",
    "max_value = arr[0]\n",
    "min_index = 1  # 1-based index\n",
    "max_index = 1  # 1-based index\n",
    "\n",
    "# Iterate through the array starting from the second element (1-based indexing)\n",
    "for i in range(1, N):\n",
    "    if arr[i] < min_value:\n",
    "        min_value = arr[i]\n",
    "        min_index = i + 1  # Convert 0-based index to 1-based index\n",
    "    if arr[i] > max_value:\n",
    "        max_value = arr[i]\n",
    "        max_index = i + 1  # Convert 0-based index to 1-based index\n",
    "\n",
    "# Output the 1-based indices of the smallest and largest numbers\n",
    "print(min_index, max_index)\n",
    "\n"
   ]
  },
  {
   "cell_type": "code",
   "execution_count": null,
   "metadata": {},
   "outputs": [],
   "source": [
    "# 40\n",
    "# Given 3 numbers A,B,C print 'yes' if they can form the sides of a right angled triangle,otherwise 'no'.\n",
    "# Input Size : A,B,C <= 100000\n",
    "# Sample Testcase :\n",
    "# INPUT\n",
    "# 3 4 5\n",
    "# OUTPUT\n",
    "# yes\n",
    "\n",
    "A, B, C = map(int, input().split())\n",
    "if ((A+B>C) and (A+C>B) and (B+C>A)):\n",
    "    print(\"yes\")\n",
    "else:\n",
    "    print(\"no\")"
   ]
  },
  {
   "cell_type": "code",
   "execution_count": 21,
   "metadata": {},
   "outputs": [
    {
     "name": "stdout",
     "output_type": "stream",
     "text": [
      "1\n"
     ]
    }
   ],
   "source": [
    "# 41\n",
    "'''The Romans have attacked again. This time they are much more than the Persians but Shapur is ready to defeat them. He says: \n",
    "'A lion is never afraid of a hundred sheep'.\n",
    "\n",
    "Nevertheless Shapur has to find weaknesses in the Roman army to defeat them. So he gives the army a weakness number.\n",
    "\n",
    "In Shapur's opinion the weakness of an army is equal to the number of triplets i, j, k such that i < j < k and ai > aj > ak \n",
    "where ax is the power of man standing at position x. The Roman army has one special trait — powers of all the people in it are distinct.\n",
    "\n",
    "Help Shapur find out how weak the Romans are.\n",
    "\n",
    "The first line of input contains a single number n, the number of men in Roman army. \n",
    "Next line contains n different positive integers powers of men in the Roman army.'''\n",
    "# Input Size : N<=100000\n",
    "# Example:\n",
    "# INPUT\n",
    "# 3\n",
    "# 3 2 1\n",
    "# OUTPUT\n",
    "# 1\n",
    "\n",
    "def count_weakness_triplets(n, powers):\n",
    "    # To store counts of elements greater on the left of each element\n",
    "    count_left_greater = [0] * n\n",
    "    # To store counts of elements smaller on the right of each element\n",
    "    count_right_smaller = [0] * n\n",
    "\n",
    "    # Left to right pass to count elements greater than the current one on the left\n",
    "    for j in range(1, n):\n",
    "        count = 0\n",
    "        for i in range(j):\n",
    "            if powers[i] > powers[j]:\n",
    "                count += 1\n",
    "        count_left_greater[j] = count\n",
    "\n",
    "    # Right to left pass to count elements smaller than the current one on the right\n",
    "    for j in range(n-2, -1, -1):\n",
    "        count = 0\n",
    "        for k in range(j+1, n):\n",
    "            if powers[k] < powers[j]:\n",
    "                count += 1\n",
    "        count_right_smaller[j] = count\n",
    "\n",
    "    # Calculate the total number of valid triplets\n",
    "    total_triplets = 0\n",
    "    for j in range(n):\n",
    "        total_triplets += count_left_greater[j] * count_right_smaller[j]\n",
    "\n",
    "    return total_triplets\n",
    "\n",
    "# Input\n",
    "n = int(input())  # Number of men in the army\n",
    "powers = list(map(int, input().split()))  # Powers of the men\n",
    "\n",
    "# Output the result\n",
    "print(count_weakness_triplets(n, powers))\n",
    "    "
   ]
  }
 ],
 "metadata": {
  "kernelspec": {
   "display_name": "Python 3",
   "language": "python",
   "name": "python3"
  },
  "language_info": {
   "codemirror_mode": {
    "name": "ipython",
    "version": 3
   },
   "file_extension": ".py",
   "mimetype": "text/x-python",
   "name": "python",
   "nbconvert_exporter": "python",
   "pygments_lexer": "ipython3",
   "version": "3.13.2"
  }
 },
 "nbformat": 4,
 "nbformat_minor": 2
}
